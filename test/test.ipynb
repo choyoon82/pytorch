{
 "cells": [
  {
   "cell_type": "code",
   "execution_count": 15,
   "metadata": {},
   "outputs": [
    {
     "name": "stdout",
     "output_type": "stream",
     "text": [
      "[6 8 7 8 8]\n"
     ]
    }
   ],
   "source": [
    "import numpy as np\n",
    "code = '''nparr = np.random.randint(2,10,5)\n",
    "print(nparr)\n",
    "'''\n",
    "exec(code)"
   ]
  },
  {
   "cell_type": "code",
   "execution_count": 5,
   "metadata": {},
   "outputs": [
    {
     "name": "stdout",
     "output_type": "stream",
     "text": [
      "[8 3 7 2 6]\n"
     ]
    }
   ],
   "source": [
    "import numpy as np\n",
    "nparr = np.random.randint(2,10,5)\n",
    "print(nparr)"
   ]
  },
  {
   "cell_type": "code",
   "execution_count": 12,
   "metadata": {},
   "outputs": [
    {
     "name": "stdout",
     "output_type": "stream",
     "text": [
      "Help on built-in function exec in module builtins:\n",
      "\n",
      "exec(source, globals=None, locals=None, /, *, closure=None)\n",
      "    Execute the given source in the context of globals and locals.\n",
      "\n",
      "    The source may be a string representing one or more Python statements\n",
      "    or a code object as returned by compile().\n",
      "    The globals must be a dictionary and locals can be any mapping,\n",
      "    defaulting to the current globals and locals.\n",
      "    If only globals is given, locals defaults to it.\n",
      "    The closure must be a tuple of cellvars, and can only be used\n",
      "    when source is a code object requiring exactly that many cellvars.\n",
      "\n"
     ]
    }
   ],
   "source": [
    "help(exec)"
   ]
  }
 ],
 "metadata": {
  "kernelspec": {
   "display_name": "Python 3",
   "language": "python",
   "name": "python3"
  },
  "language_info": {
   "codemirror_mode": {
    "name": "ipython",
    "version": 3
   },
   "file_extension": ".py",
   "mimetype": "text/x-python",
   "name": "python",
   "nbconvert_exporter": "python",
   "pygments_lexer": "ipython3",
   "version": "3.12.6"
  }
 },
 "nbformat": 4,
 "nbformat_minor": 2
}
